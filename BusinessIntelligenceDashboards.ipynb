{
 "cells": [
  {
   "cell_type": "markdown",
   "metadata": {},
   "source": [
    "<h1 style=\"text-align:center;\">Laboratorio 10</h1>\n",
    "<h4 style=\"text-align:center;\">Cristopher Barrios</h4>\n",
    "<h4 style=\"text-align:center;\">Mariana David</h4>\n",
    "<h5 style=\"text-align:center;\">27/10/2023</h5>"
   ]
  },
  {
   "cell_type": "markdown",
   "metadata": {},
   "source": []
  },
  {
   "cell_type": "code",
   "execution_count": null,
   "metadata": {},
   "outputs": [],
   "source": []
  }
 ],
 "metadata": {
  "language_info": {
   "name": "python"
  }
 },
 "nbformat": 4,
 "nbformat_minor": 2
}
